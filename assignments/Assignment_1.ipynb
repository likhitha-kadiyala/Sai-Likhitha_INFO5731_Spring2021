{
  "nbformat": 4,
  "nbformat_minor": 0,
  "metadata": {
    "colab": {
      "name": "Assignment_1.ipynb",
      "provenance": [],
      "collapsed_sections": [],
      "authorship_tag": "ABX9TyNFLFG5wdnUuPDlGjTCZIwA",
      "include_colab_link": true
    },
    "kernelspec": {
      "name": "python3",
      "display_name": "Python 3"
    }
  },
  "cells": [
    {
      "cell_type": "markdown",
      "metadata": {
        "id": "view-in-github",
        "colab_type": "text"
      },
      "source": [
        "<a href=\"https://colab.research.google.com/github/likhitha-kadiyala/Sai-Likhitha_INFO5731_Spring2021/blob/main/assignments/Assignment_1.ipynb\" target=\"_parent\"><img src=\"https://colab.research.google.com/assets/colab-badge.svg\" alt=\"Open In Colab\"/></a>"
      ]
    },
    {
      "cell_type": "markdown",
      "metadata": {
        "id": "Ryk8D1Q4Wsrp"
      },
      "source": [
        "# **INFO5731 Assignment One**"
      ]
    },
    {
      "cell_type": "markdown",
      "metadata": {
        "id": "90_NR8c5XGWc"
      },
      "source": [
        "# Question 1\n",
        "\n",
        "(20 points). Write a Python program to generate 12 random numbers between 1 and 100. Sort the list of numbers in ascending order and print it out. Sort the list of numbers in descending order and print it out. Calculate the average for the group and print it out."
      ]
    },
    {
      "cell_type": "code",
      "metadata": {
        "colab": {
          "base_uri": "https://localhost:8080/"
        },
        "id": "MJqxWqYdi0hE",
        "outputId": "76df99b8-09c1-4520-aef7-4273d0db435d"
      },
      "source": [
        "import random\r\n",
        "values = random.sample(range(100), 12)\r\n",
        "print(\"the random values are\",values)\r\n",
        "print('ascending order',sorted(values))\r\n",
        "print(\"descending order\",sorted(values,reverse=True))\r\n",
        "average=sum(values)/len(values)\r\n",
        "print(\"average is\",average)  "
      ],
      "execution_count": null,
      "outputs": [
        {
          "output_type": "stream",
          "text": [
            "the random values are [31, 90, 68, 22, 76, 60, 24, 30, 84, 6, 77, 16]\n",
            "ascending order [6, 16, 22, 24, 30, 31, 60, 68, 76, 77, 84, 90]\n",
            "descending order [90, 84, 77, 76, 68, 60, 31, 30, 24, 22, 16, 6]\n",
            "average is 48.666666666666664\n"
          ],
          "name": "stdout"
        }
      ]
    },
    {
      "cell_type": "markdown",
      "metadata": {
        "id": "1F_PZdH9Sh49"
      },
      "source": [
        "# Question 2\n",
        "(25 points). Write a program that will do the following string formatting tasks:\n",
        "\n",
        "(1) Ask the user to enter two sentences.\n",
        "\n",
        "(2) Make each sentence into a list. Each element in the list should correspond to a word in the sentence. For example, if the sentence is \"Alas! Am I alive? This is my first python program\", the program should print out ['Alas, '!', 'Am', 'I', 'alive, '?', 'This', 'is', 'my', 'first', 'python', 'program'].\n",
        "\n",
        "(3) Compare the two sentences. Print out a list of words that occur in both sentences.\n",
        "\n",
        "(4) Remove any punctuation from the sentence and print it back out. It should remove at least the following characters, but it can remove more: period(“.”), comma (“,”), semicolon (“;”), and colon (“:”)\n",
        "\n",
        "(5) Count the number of vowels in the sentences. Print out each vowel and the number of times it appears in the sentences, such as: a:2, e:1, i:0, etc"
      ]
    },
    {
      "cell_type": "code",
      "metadata": {
        "colab": {
          "base_uri": "https://localhost:8080/"
        },
        "id": "i4rJvkqqkMJg",
        "outputId": "7a6bb590-bbee-4ef0-ab48-517f4eb71302"
      },
      "source": [
        "import re\r\n",
        "sent_1 = input(\"Enter first sentence\")\r\n",
        "sent_2 = input(\"Enter second sentence\")\r\n",
        "\r\n",
        "def list_conv(sentence):\r\n",
        "  r = re.compile(r'\\w+|[^\\w\\s]')\r\n",
        "  return r.findall(sentence)\r\n",
        "\r\n",
        "list_1=list_conv(sent_1)\r\n",
        "print(\"list of sentence 1\", list_1)\r\n",
        "list_2=list_conv(sent_2)\r\n",
        "print(\"list of sentence 2\", list_2)\r\n",
        "\r\n",
        "\r\n",
        "Common_words=[word for word in list_1 if word in list_2 ]\r\n",
        "print(\"words common in both lists\",Common_words)\r\n",
        "\r\n",
        "print(\"after removing punctuations\")\r\n",
        "punctuations = '''!()-[]{};:'\"\\,<>./?@#$%^&*_~'''\r\n",
        "rem_punc = \" \"\r\n",
        "sent_list = sent_1, sent_2\r\n",
        "for i in sent_list:\r\n",
        "  for letter in i:\r\n",
        "    if letter not in punctuations:\r\n",
        "         rem_punc = rem_punc+ letter\r\n",
        "  print(rem_punc)\r\n",
        "  rem_punc = \" \"\r\n",
        "\r\n",
        "\r\n",
        "sent1=list_1+list_2\r\n",
        "def vowel(sent1):\r\n",
        "  vow_count = {}.fromkeys('aeiou',0)\r\n",
        "  for value in sent1:\r\n",
        "     for letter in value:\r\n",
        "       if letter in vow_count:\r\n",
        "         vow_count[letter] += 1\r\n",
        "  print(vow_count)\r\n",
        "\r\n",
        "vowel(sent1)"
      ],
      "execution_count": null,
      "outputs": [
        {
          "output_type": "stream",
          "text": [
            "Enter first sentenceHow are you? It's hot today.\n",
            "Enter second sentenceHi, I am good. How are you?\n",
            "list of sentence 1 ['How', 'are', 'you', '?', 'It', \"'\", 's', 'hot', 'today', '.']\n",
            "list of sentence 2 ['Hi', ',', 'I', 'am', 'good', '.', 'How', 'are', 'you', '?']\n",
            "words common in both lists ['How', 'are', 'you', '?', '.']\n",
            "after removing punctuations\n",
            " How are you Its hot today\n",
            " Hi I am good How are you\n",
            "{'a': 4, 'e': 2, 'i': 1, 'o': 8, 'u': 2}\n"
          ],
          "name": "stdout"
        }
      ]
    },
    {
      "cell_type": "markdown",
      "metadata": {
        "id": "CmFoI4jDS9nx"
      },
      "source": [
        "# Question 3 \n",
        "\n",
        "(15 points). The formula that describes the volume V of a sphere with radius r is the following:\n",
        "\n",
        "$ V=\\frac{4}{3}\\ast\\ \\pi\\ast\\ r^3 $\n",
        "\n",
        "Write a program to calculate the value of V when r is in the range of 1–10. Output the result in the following format:\n",
        "\n",
        "\tr\tV\n",
        "\t1\t…\n",
        "\t2\t…\n",
        "\t3\t…\n"
      ]
    },
    {
      "cell_type": "code",
      "metadata": {
        "colab": {
          "base_uri": "https://localhost:8080/"
        },
        "id": "GNDJPs9ErfFl",
        "outputId": "9837a2d0-b3a9-4720-a123-bcdeb6028da7"
      },
      "source": [
        "import math\r\n",
        "def volume(r):\r\n",
        "  return (4/3*math.pi*r**3)\r\n",
        "\r\n",
        "print ('r    V')\r\n",
        "\r\n",
        "for r in range(1,11):\r\n",
        "  print (str(r) +\"   \" +str(volume(r)))"
      ],
      "execution_count": null,
      "outputs": [
        {
          "output_type": "stream",
          "text": [
            "r    V\n",
            "1   4.1887902047863905\n",
            "2   33.510321638291124\n",
            "3   113.09733552923254\n",
            "4   268.082573106329\n",
            "5   523.5987755982989\n",
            "6   904.7786842338603\n",
            "7   1436.7550402417319\n",
            "8   2144.660584850632\n",
            "9   3053.6280592892786\n",
            "10   4188.790204786391\n"
          ],
          "name": "stdout"
        }
      ]
    },
    {
      "cell_type": "markdown",
      "metadata": {
        "id": "z3tBE7E-Xn5X"
      },
      "source": [
        "# Question 4\n",
        "\n",
        "(40 points). In the field of Data Science, data is often formatted as a comma-delimited (CSV) file, where each line in a file corresponds to a field's value. Refer to Chapter 9 (p. 106) for more information on comma-delimited files. To answer this question, you will need to download the file [Assignment1_denton_housing.csv](https://github.com/unt-iialab/info5731_spring2021/blob/main/assignment/Assignment1_denton_housing.csv) included with this assignment. The file [Assignment1_denton_housing.csv](https://github.com/unt-iialab/info5731_spring2021/blob/main/assignment/Assignment1_denton_housing.csv) contains statistics about housing in the city of Denton from 2008 to 2014. Write a program to implement the following questions.\n",
        "\n",
        "(1) (10 pts) Calculate the difference in the number of Occupied Housing Units from year to year and print it. The difference must be calculated for the consecutive years such as 2008-2009, 2009-2010 etc. Finally, print the values in the ascending order.\n",
        "\n",
        "(2) (10 pts) For all the years, calculate the percentage of housing units which are vacant an occupied. Print the results in the following format:\n",
        "\n",
        "Year Vacant Housing Units Occupied Housing Units\n",
        "\n",
        "    2008  30%   70%                          \n",
        "\t2009 ----- -----\n",
        "\t2010 ----- -----\n",
        "    2011 ----- -----\n",
        "\t2012 ----- -----\n",
        "    2013 ----- -----\n",
        "\t2014 ----- -----\n",
        "  \n",
        "  \n",
        "\n",
        "(3) (10 pts) Calculate and print the valued and years in which the highest number of housing units were vacant and occupied. Print the results in the following format:  \n",
        "\n",
        "                              Year\tValue\n",
        "\tVacant Housing Units\t  -----   -----\n",
        "\tOccupied Housing Units\t-----   -----\n",
        "\n",
        "(4) (10 pts) Calculate the harmonic mean of the total housing units and print it out. You can find the information about harmonic mean here: https://ncalculators.com/statistics/harmonic-mean-calculator.htm"
      ]
    },
    {
      "cell_type": "code",
      "metadata": {
        "colab": {
          "base_uri": "https://localhost:8080/"
        },
        "id": "VQJPQcZYubKy",
        "outputId": "16937174-441a-4057-9c9f-520c9c01ce35"
      },
      "source": [
        "#question 4.(1)\r\n",
        "import pandas as pd\r\n",
        "df = pd.read_csv('https://raw.githubusercontent.com/unt-iialab/info5731_spring2021/main/assignment/Assignment1_denton_housing.csv')\r\n",
        "df_occupied = df[df['title_field'] == 'Occupied Housing Units'].sort_values(by=['year'])\r\n",
        "df_Occupied_Asc = df_occupied.sort_values('year',ascending=True)\r\n",
        "df_Occupied_Asc['year interval']  = ['2008','2009-2008','2010-2009','2011-2010','2012-2011','2013-2012','2014-2013']\r\n",
        "df_Occupied_Asc['diff_in_units']= df_occupied.value.diff().sort_values()\r\n",
        "df_Occupied_Asc = df_Occupied_Asc.sort_values('diff_in_units',ascending= True)\r\n",
        "df_col = ['year interval','diff_in_units']\r\n",
        "final= df_Occupied_Asc[df_col]\r\n",
        "print(\"the ascending order of difference in occupied units\\n\",final)"
      ],
      "execution_count": null,
      "outputs": [
        {
          "output_type": "stream",
          "text": [
            "the ascending order of difference in occupied units\n",
            "    year interval  diff_in_units\n",
            "17     2009-2008         -795.0\n",
            "11     2011-2010         -303.0\n",
            "8      2012-2011         1404.0\n",
            "5      2013-2012         1565.0\n",
            "2      2014-2013         2622.0\n",
            "14     2010-2009         5091.0\n",
            "20          2008            NaN\n"
          ],
          "name": "stdout"
        }
      ]
    },
    {
      "cell_type": "code",
      "metadata": {
        "colab": {
          "base_uri": "https://localhost:8080/",
          "height": 263
        },
        "id": "tV0SBPCzvxkM",
        "outputId": "d2be270b-98bd-4ae3-a2b1-220cc0732897"
      },
      "source": [
        "# question 4.(2)\r\n",
        "vac_houses_lst = df[df['title_field'] == 'Vacant Housing Units'].sort_values(by=['year'])['value'].values.tolist()\r\n",
        "occ_houses_lst = df[df['title_field'] == 'Occupied Housing Units'].sort_values(by=['year'])['value'].values.tolist()\r\n",
        "total_houses_lst = df[df['title_field'] == 'Total Housing Units'].sort_values(by=['year'])['value'].values.tolist()\r\n",
        "Year = df[df['title_field'] == 'Total Housing Units'].sort_values(by=['year'])['year'].values.tolist()\r\n",
        "vac_houses = [str(round((v/t)*100,4))+' %' for v,t in zip(vac_houses_lst,total_houses_lst)]\r\n",
        "occ_houses = [str(round((o/t)*100,4))+' %' for o, t in zip(occ_houses_lst, total_houses_lst)]\r\n",
        "result = pd.DataFrame(list(zip(Year,vac_houses, occ_houses)), columns =['Year','percentage_vacant houses', 'percentage_occupied houses'])\r\n",
        "result\r\n"
      ],
      "execution_count": null,
      "outputs": [
        {
          "output_type": "execute_result",
          "data": {
            "text/html": [
              "<div>\n",
              "<style scoped>\n",
              "    .dataframe tbody tr th:only-of-type {\n",
              "        vertical-align: middle;\n",
              "    }\n",
              "\n",
              "    .dataframe tbody tr th {\n",
              "        vertical-align: top;\n",
              "    }\n",
              "\n",
              "    .dataframe thead th {\n",
              "        text-align: right;\n",
              "    }\n",
              "</style>\n",
              "<table border=\"1\" class=\"dataframe\">\n",
              "  <thead>\n",
              "    <tr style=\"text-align: right;\">\n",
              "      <th></th>\n",
              "      <th>Year</th>\n",
              "      <th>percentage_vacant houses</th>\n",
              "      <th>percentage_occupied houses</th>\n",
              "    </tr>\n",
              "  </thead>\n",
              "  <tbody>\n",
              "    <tr>\n",
              "      <th>0</th>\n",
              "      <td>2008</td>\n",
              "      <td>10.8827 %</td>\n",
              "      <td>89.1173 %</td>\n",
              "    </tr>\n",
              "    <tr>\n",
              "      <th>1</th>\n",
              "      <td>2009</td>\n",
              "      <td>9.0711 %</td>\n",
              "      <td>90.9289 %</td>\n",
              "    </tr>\n",
              "    <tr>\n",
              "      <th>2</th>\n",
              "      <td>2010</td>\n",
              "      <td>8.1426 %</td>\n",
              "      <td>91.8574 %</td>\n",
              "    </tr>\n",
              "    <tr>\n",
              "      <th>3</th>\n",
              "      <td>2011</td>\n",
              "      <td>9.3795 %</td>\n",
              "      <td>90.6205 %</td>\n",
              "    </tr>\n",
              "    <tr>\n",
              "      <th>4</th>\n",
              "      <td>2012</td>\n",
              "      <td>6.6776 %</td>\n",
              "      <td>93.3224 %</td>\n",
              "    </tr>\n",
              "    <tr>\n",
              "      <th>5</th>\n",
              "      <td>2013</td>\n",
              "      <td>8.8018 %</td>\n",
              "      <td>91.1982 %</td>\n",
              "    </tr>\n",
              "    <tr>\n",
              "      <th>6</th>\n",
              "      <td>2014</td>\n",
              "      <td>5.7301 %</td>\n",
              "      <td>94.2699 %</td>\n",
              "    </tr>\n",
              "  </tbody>\n",
              "</table>\n",
              "</div>"
            ],
            "text/plain": [
              "   Year percentage_vacant houses percentage_occupied houses\n",
              "0  2008                10.8827 %                  89.1173 %\n",
              "1  2009                 9.0711 %                  90.9289 %\n",
              "2  2010                 8.1426 %                  91.8574 %\n",
              "3  2011                 9.3795 %                  90.6205 %\n",
              "4  2012                 6.6776 %                  93.3224 %\n",
              "5  2013                 8.8018 %                  91.1982 %\n",
              "6  2014                 5.7301 %                  94.2699 %"
            ]
          },
          "metadata": {
            "tags": []
          },
          "execution_count": 18
        }
      ]
    },
    {
      "cell_type": "code",
      "metadata": {
        "colab": {
          "base_uri": "https://localhost:8080/"
        },
        "id": "AsXU7GdqwRgA",
        "outputId": "41ecc622-98fb-4da9-c34d-5b3ec1ee20b9"
      },
      "source": [
        "#question 4.(3)\r\n",
        "df_occ=df.loc[df['title_field'] == 'Occupied Housing Units']\r\n",
        "df_vac=df.loc[df['title_field'] == 'Vacant Housing Units']\r\n",
        "df_result = pd.concat([df_vac[df_vac['value']==df_vac['value'].max()],df_occ[df_occ['value']==df_occ['value'].max()]])\r\n",
        "print(df_result[['title_field','year','value']])\r\n"
      ],
      "execution_count": null,
      "outputs": [
        {
          "output_type": "stream",
          "text": [
            "               title_field  year  value\n",
            "19    Vacant Housing Units  2008   4483\n",
            "2   Occupied Housing Units  2014  46295\n"
          ],
          "name": "stdout"
        }
      ]
    },
    {
      "cell_type": "code",
      "metadata": {
        "colab": {
          "base_uri": "https://localhost:8080/"
        },
        "id": "SB86YXekw1gV",
        "outputId": "6645381c-5092-4618-d572-e2a232d0f44a"
      },
      "source": [
        "#question 4.(4)\r\n",
        "from scipy import stats\r\n",
        "print('harmonic mean of the total housing units=  %f'%stats.hmean(total_houses_lst))"
      ],
      "execution_count": null,
      "outputs": [
        {
          "output_type": "stream",
          "text": [
            "harmonic mean of the total housing units=  44398.285440\n"
          ],
          "name": "stdout"
        }
      ]
    }
  ]
}