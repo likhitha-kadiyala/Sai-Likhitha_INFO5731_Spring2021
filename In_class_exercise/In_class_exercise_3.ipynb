{
  "nbformat": 4,
  "nbformat_minor": 0,
  "metadata": {
    "colab": {
      "name": "In_class_exercise_3.ipynb",
      "provenance": [],
      "collapsed_sections": [],
      "authorship_tag": "ABX9TyNK/6x64w3zeyE83RC3Grfa",
      "include_colab_link": true
    },
    "kernelspec": {
      "name": "python3",
      "display_name": "Python 3"
    }
  },
  "cells": [
    {
      "cell_type": "markdown",
      "metadata": {
        "id": "view-in-github",
        "colab_type": "text"
      },
      "source": [
        "<a href=\"https://colab.research.google.com/github/likhitha-kadiyala/Sai-Likhitha_INFO5731_Spring2021/blob/main/In_class_exercise/In_class_exercise_3.ipynb\" target=\"_parent\"><img src=\"https://colab.research.google.com/assets/colab-badge.svg\" alt=\"Open In Colab\"/></a>"
      ]
    },
    {
      "cell_type": "markdown",
      "metadata": {
        "id": "Fr4PzWOnJnXl"
      },
      "source": [
        "## The third In-class-exercise (02/05/2021, 20 points in total)\r\n",
        "\r\n",
        "---\r\n",
        "\r\n"
      ]
    },
    {
      "cell_type": "markdown",
      "metadata": {
        "id": "8FrK4S8kJnXn"
      },
      "source": [
        "The purpose of this exercise is to under users' information needs, then collect the data for analysis."
      ]
    },
    {
      "cell_type": "markdown",
      "metadata": {
        "id": "mLDJIR-RJnXo"
      },
      "source": [
        "Question 1 (8 points): Describe an interesting research question (or practical question) you have in mind, what kind of data should be collected to answer the question(s)? How many data needed for the analysis? The detail steps for collecting and save the data. "
      ]
    },
    {
      "cell_type": "code",
      "metadata": {
        "id": "5zhkMzwQJnXo"
      },
      "source": [
        "# Your answer here (no code for this question, write down your answer as detail as possible for the above questions):\n",
        "\n",
        "'''\n",
        "Please write you answer here:\n",
        "Research question: My research question is to find the review and rating of Samsung 50 inch Smart TV. \n",
        "These are given by customers who are using this Smart TV. There are many e-commerce websites to get the customer reviews.\n",
        "But, I have choosen flipkart. There are almost 5000 ratings and 900 reviews. \n",
        "Steps: \n",
        "I have used beautiful soup module to parse the data in the webpage. \n",
        "As I wanted to know the reviews and ratings given by customers, I extracted them with the help of inspect option by identifying the class of reviews and ratings. \n",
        "Created an empty list for ratings and reviews to append those extracted values.\n",
        "The url is provided dynamically inside a for loop to access each page. \n",
        "For loop is used and iterated in the range of 54 to get 500 reviews as each page has 10 reviews. \n",
        "Then I created a dataframe and then converted into csv file.\n",
        "\n",
        "\n",
        "\n",
        "'''"
      ],
      "execution_count": null,
      "outputs": []
    },
    {
      "cell_type": "markdown",
      "metadata": {
        "id": "EpZi-KmlJnXp"
      },
      "source": [
        "Question 2 (12 points): Write python code to collect 500 items of the data you plan to collect above."
      ]
    },
    {
      "cell_type": "code",
      "metadata": {
        "id": "D9o9JIc0JnXp",
        "colab": {
          "base_uri": "https://localhost:8080/",
          "height": 433
        },
        "outputId": "8cebf790-a33e-43e5-e81c-f72e83b4033c"
      },
      "source": [
        "# You code here (Please add comments in the code):\n",
        "\n",
        "\n",
        "import requests\n",
        "from bs4 import BeautifulSoup\n",
        "import pandas as py\n",
        "# empty lists creation for holding reviews and ratings\n",
        "Review_title = [] \n",
        "Rating =[] \n",
        "for pg_no in range(54):\n",
        "  url = \"https://www.flipkart.com/samsung-125-cm-50-inch-ultra-hd-4k-led-smart-tv/product-reviews/itm79b0d4d11e541?pid=TVSFQXFKPMMJ65DE&lid=LSTTVSFQXFKPMMJ65DE1NVLOB&marketplace=FLIPKART&page=\"+ str(pg_no) # providing link for website dynamically\n",
        "  page = requests.get(url) \n",
        "  page_soup = BeautifulSoup(page.text, 'html.parser') # creating beautiful soup class to parse the page\n",
        "  #getting details by using the class name\n",
        "  Reviews = page_soup.find_all(class_='_2-N8zT') \n",
        "  Ratings = page_soup.find_all(class_='_3LWZlK _1BLPMq') \n",
        "  for title, rat in zip(Reviews, Ratings) :\n",
        "      Review_title.append(title.text) #appending extracted values into the list\n",
        "      Rating.append(rat.text)\n",
        "df = py.DataFrame(list(zip(Review_title, Rating)), columns =['Review title', 'Rating'])  #creating dataframe and then converting into csv file\n",
        "print(\"Length of data frame is\",len(df))\n",
        "df.to_csv('Ratings.csv', index=False)\n",
        "df"
      ],
      "execution_count": null,
      "outputs": [
        {
          "output_type": "stream",
          "text": [
            "Length of data frame is 501\n"
          ],
          "name": "stdout"
        },
        {
          "output_type": "execute_result",
          "data": {
            "text/html": [
              "<div>\n",
              "<style scoped>\n",
              "    .dataframe tbody tr th:only-of-type {\n",
              "        vertical-align: middle;\n",
              "    }\n",
              "\n",
              "    .dataframe tbody tr th {\n",
              "        vertical-align: top;\n",
              "    }\n",
              "\n",
              "    .dataframe thead th {\n",
              "        text-align: right;\n",
              "    }\n",
              "</style>\n",
              "<table border=\"1\" class=\"dataframe\">\n",
              "  <thead>\n",
              "    <tr style=\"text-align: right;\">\n",
              "      <th></th>\n",
              "      <th>Review title</th>\n",
              "      <th>Rating</th>\n",
              "    </tr>\n",
              "  </thead>\n",
              "  <tbody>\n",
              "    <tr>\n",
              "      <th>0</th>\n",
              "      <td>Awesome</td>\n",
              "      <td>5</td>\n",
              "    </tr>\n",
              "    <tr>\n",
              "      <th>1</th>\n",
              "      <td>Awesome</td>\n",
              "      <td>5</td>\n",
              "    </tr>\n",
              "    <tr>\n",
              "      <th>2</th>\n",
              "      <td>Just wow! Super impressed</td>\n",
              "      <td>5</td>\n",
              "    </tr>\n",
              "    <tr>\n",
              "      <th>3</th>\n",
              "      <td>Brilliant</td>\n",
              "      <td>5</td>\n",
              "    </tr>\n",
              "    <tr>\n",
              "      <th>4</th>\n",
              "      <td>Decent product</td>\n",
              "      <td>3</td>\n",
              "    </tr>\n",
              "    <tr>\n",
              "      <th>...</th>\n",
              "      <td>...</td>\n",
              "      <td>...</td>\n",
              "    </tr>\n",
              "    <tr>\n",
              "      <th>496</th>\n",
              "      <td>Nice</td>\n",
              "      <td>3</td>\n",
              "    </tr>\n",
              "    <tr>\n",
              "      <th>497</th>\n",
              "      <td>Wonderful</td>\n",
              "      <td>5</td>\n",
              "    </tr>\n",
              "    <tr>\n",
              "      <th>498</th>\n",
              "      <td>Excellent</td>\n",
              "      <td>5</td>\n",
              "    </tr>\n",
              "    <tr>\n",
              "      <th>499</th>\n",
              "      <td>Really Nice</td>\n",
              "      <td>4</td>\n",
              "    </tr>\n",
              "    <tr>\n",
              "      <th>500</th>\n",
              "      <td>Simply awesome</td>\n",
              "      <td>5</td>\n",
              "    </tr>\n",
              "  </tbody>\n",
              "</table>\n",
              "<p>501 rows × 2 columns</p>\n",
              "</div>"
            ],
            "text/plain": [
              "                  Review title Rating\n",
              "0                      Awesome      5\n",
              "1                      Awesome      5\n",
              "2    Just wow! Super impressed      5\n",
              "3                    Brilliant      5\n",
              "4               Decent product      3\n",
              "..                         ...    ...\n",
              "496                       Nice      3\n",
              "497                  Wonderful      5\n",
              "498                  Excellent      5\n",
              "499                Really Nice      4\n",
              "500             Simply awesome      5\n",
              "\n",
              "[501 rows x 2 columns]"
            ]
          },
          "metadata": {
            "tags": []
          },
          "execution_count": 4
        }
      ]
    }
  ]
}