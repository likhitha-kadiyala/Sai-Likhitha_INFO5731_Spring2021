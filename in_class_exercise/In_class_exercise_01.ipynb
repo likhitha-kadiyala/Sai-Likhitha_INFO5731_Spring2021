{
  "nbformat": 4,
  "nbformat_minor": 0,
  "metadata": {
    "colab": {
      "name": "In_class_exercise_01.ipynb",
      "provenance": [],
      "collapsed_sections": [],
      "authorship_tag": "ABX9TyNt7yt1Heh9aTixdLecbxAJ",
      "include_colab_link": true
    },
    "kernelspec": {
      "name": "python3",
      "display_name": "Python 3"
    }
  },
  "cells": [
    {
      "cell_type": "markdown",
      "metadata": {
        "id": "view-in-github",
        "colab_type": "text"
      },
      "source": [
        "<a href=\"https://colab.research.google.com/github/likhitha-kadiyala/Sai-Likhitha_INFO5731_Spring2021/blob/main/in_class_exercise/In_class_exercise_01.ipynb\" target=\"_parent\"><img src=\"https://colab.research.google.com/assets/colab-badge.svg\" alt=\"Open In Colab\"/></a>"
      ]
    },
    {
      "cell_type": "markdown",
      "metadata": {
        "id": "saxkp0Uy8syV"
      },
      "source": [
        "# The first In-class-exercise (1/19/2021, 20 points in total)"
      ]
    },
    {
      "cell_type": "markdown",
      "metadata": {
        "id": "EWrJe8mR8_s2"
      },
      "source": [
        "(1) Write a Python program to calculate the length of a string. (2 points)"
      ]
    },
    {
      "cell_type": "code",
      "metadata": {
        "colab": {
          "base_uri": "https://localhost:8080/"
        },
        "id": "96WoiUss9E-S",
        "outputId": "31d603ed-6a9a-40ad-b475-9880c34d52c8"
      },
      "source": [
        "sample_string =\"Computational methods\"\r\n",
        "print(\"length:\" + str(len(sample_string)))"
      ],
      "execution_count": 3,
      "outputs": [
        {
          "output_type": "stream",
          "text": [
            "length:21\n"
          ],
          "name": "stdout"
        }
      ]
    },
    {
      "cell_type": "markdown",
      "metadata": {
        "id": "d7bj91Pw-B-r"
      },
      "source": [
        "(2) Write a Python program to count the number of characters in a string. (2 points)\r\n",
        "\r\n",
        "Sample String : 'google.com‘,\r\n",
        "\r\n",
        "Expected Result : {'o': 3, 'g': 2, '.': 1, 'e': 1, 'l': 1, 'm': 1, 'c': 1}"
      ]
    },
    {
      "cell_type": "code",
      "metadata": {
        "colab": {
          "base_uri": "https://localhost:8080/"
        },
        "id": "tEhTZVuc-H18",
        "outputId": "3615aec8-17ce-4e6c-d804-955b74fe39a8"
      },
      "source": [
        "sample= input(\"enter a string:\")\r\n",
        "res={}                           \r\n",
        "for char in sample:                  \r\n",
        "  if char in res:\r\n",
        "   res[char]=res[char] +1\r\n",
        "  else:\r\n",
        "    res[char]= 1\r\n",
        "print(res)\r\n"
      ],
      "execution_count": 4,
      "outputs": [
        {
          "output_type": "stream",
          "text": [
            "enter a string:google.com\n",
            "{'g': 2, 'o': 3, 'l': 1, 'e': 1, '.': 1, 'c': 1, 'm': 1}\n"
          ],
          "name": "stdout"
        }
      ]
    },
    {
      "cell_type": "markdown",
      "metadata": {
        "id": "uHAzbA1F_lei"
      },
      "source": [
        "(3) Write a Python program to sum all the items in a list. (2 points)"
      ]
    },
    {
      "cell_type": "code",
      "metadata": {
        "colab": {
          "base_uri": "https://localhost:8080/"
        },
        "id": "hvDwyzX7_rIm",
        "outputId": "8a615dad-f52d-460d-c10c-335c2a266b26"
      },
      "source": [
        "list=[1,4,13,6]      \r\n",
        "sum=0\r\n",
        "for a in list:     \r\n",
        "  sum=sum + a\r\n",
        "print(sum)"
      ],
      "execution_count": 6,
      "outputs": [
        {
          "output_type": "stream",
          "text": [
            "24\n"
          ],
          "name": "stdout"
        }
      ]
    },
    {
      "cell_type": "markdown",
      "metadata": {
        "id": "4ulBZ6yhCi9F"
      },
      "source": [
        "(4) Write a Python program to get a string from a given string where all occurrences of its first char have been changed to '\\$', except the first char itself. (2 points)\n",
        "\n",
        "Sample String : 'restart‘, \n",
        "\n",
        "Expected Result : 'resta\\$t'"
      ]
    },
    {
      "cell_type": "code",
      "metadata": {
        "colab": {
          "base_uri": "https://localhost:8080/"
        },
        "id": "RKiGxarbBhCP",
        "outputId": "8a891172-2397-4097-965a-e7edf617716a"
      },
      "source": [
        "sample=\"restart\"                       \r\n",
        "a= sample[0]\r\n",
        "string1=sample.replace(\"r\",\"$\")\t\t\r\n",
        "string2=a+string1[1:]\t\t\t\r\n",
        "print(\"result:\" + string2)"
      ],
      "execution_count": 10,
      "outputs": [
        {
          "output_type": "stream",
          "text": [
            "result:resta$t\n"
          ],
          "name": "stdout"
        }
      ]
    },
    {
      "cell_type": "markdown",
      "metadata": {
        "id": "_bIP7s1MCzue"
      },
      "source": [
        "(5) Write a program with python which could accept two parameter a and b to calculate and output the result of S, where \n",
        "\n",
        "$\\ S=3.14*(1+a/b)^3$ (3 points)\n",
        "\n"
      ]
    },
    {
      "cell_type": "code",
      "metadata": {
        "colab": {
          "base_uri": "https://localhost:8080/"
        },
        "id": "b0WXbXGoEFJw",
        "outputId": "f1ddd3a9-fbe2-47e2-ed1c-393581fad968"
      },
      "source": [
        "a=input(\"enter a\")\r\n",
        "b=input(\"enter b\")\r\n",
        "s=3.14*(pow(1+(float(a)/float(b)),3))     \r\n",
        "print(s)"
      ],
      "execution_count": 13,
      "outputs": [
        {
          "output_type": "stream",
          "text": [
            "enter a1.5\n",
            "enter b2.5\n",
            "12.861440000000004\n"
          ],
          "name": "stdout"
        }
      ]
    },
    {
      "cell_type": "markdown",
      "metadata": {
        "id": "xCa2bK9aD4Q3"
      },
      "source": [
        "(6) Write a Python program to concatenate following dictionaries to create a new one. (3 points)\n",
        "\n",
        "Sample Dictionary : dic1={1:10, 2:20}, dic2={3:30, 4:40}, dic3={5:50,6:60}, \n",
        "\n",
        "Expected Result : {1: 10, 2: 20, 3: 30, 4: 40, 5: 50, 6: 60}\n"
      ]
    },
    {
      "cell_type": "code",
      "metadata": {
        "colab": {
          "base_uri": "https://localhost:8080/"
        },
        "id": "PlDz_rLaGldG",
        "outputId": "9739b14f-de89-419f-e33d-4a46e3615df6"
      },
      "source": [
        "dic1={1:10, 2:20}\r\n",
        "dic2={3:30, 4:40}\r\n",
        "dic3={5:50,6:60}\r\n",
        "result={}\r\n",
        "for value in (dic1,dic2,dic3):\r\n",
        "  result.update(value)\r\n",
        "print(result)"
      ],
      "execution_count": 14,
      "outputs": [
        {
          "output_type": "stream",
          "text": [
            "{1: 10, 2: 20, 3: 30, 4: 40, 5: 50, 6: 60}\n"
          ],
          "name": "stdout"
        }
      ]
    },
    {
      "cell_type": "markdown",
      "metadata": {
        "id": "0v48Vqa7FrQh"
      },
      "source": [
        "(7) Write a Python program to check whether an element exists within a tuple. (3 points)"
      ]
    },
    {
      "cell_type": "code",
      "metadata": {
        "colab": {
          "base_uri": "https://localhost:8080/"
        },
        "id": "_CJAZtsHIjbL",
        "outputId": "37134428-6040-4286-e794-9bebc42a5be5"
      },
      "source": [
        "sample_tuple = (\"a\",\"b\",\"c\")\r\n",
        "value=input(\"print a value to check:\")\r\n",
        "if value in sample_tuple:\r\n",
        "  print(\"value exists\")\r\n",
        "else:\r\n",
        "  print(\"value doesnot exists\")"
      ],
      "execution_count": 16,
      "outputs": [
        {
          "output_type": "stream",
          "text": [
            "print a value to check:b\n",
            "value exists\n"
          ],
          "name": "stdout"
        }
      ]
    },
    {
      "cell_type": "markdown",
      "metadata": {
        "id": "vD5PYLMuGga_"
      },
      "source": [
        "(8) Write a Python program to find maximum and the minimum value in a set. (3 points)"
      ]
    },
    {
      "cell_type": "code",
      "metadata": {
        "colab": {
          "base_uri": "https://localhost:8080/"
        },
        "id": "bwXgRo0FJHIr",
        "outputId": "1d311a65-9f91-42d6-8774-261ebba8eabc"
      },
      "source": [
        "set={32,6,90,1,55}\r\n",
        "print(\"Max:\" + str(max(set)))\r\n",
        "print(\"min:\" + str(min(set)))"
      ],
      "execution_count": 17,
      "outputs": [
        {
          "output_type": "stream",
          "text": [
            "Max:90\n",
            "min:1\n"
          ],
          "name": "stdout"
        }
      ]
    },
    {
      "cell_type": "markdown",
      "metadata": {
        "id": "uHkd-y5VhVWC"
      },
      "source": [
        "(9) Write a Python program to randomly divide the students in this class into five groups for term projects, each group should have at least 3 students but no more than 5 students (including 5). Here is the students list: (3 points for extra)\n",
        "\n",
        "studnet_list = ['vmb0067','pc0353','snd0097','yye0005','sg0940','bk0301','rak0120','rrk0058','spk0057','vl0135','nm0547','pn0159',\n",
        "                'msp0174','dd0420','ds0761','rs0850','ss1995','at0739','at0768','mv0299','tv0119','dy0091']"
      ]
    },
    {
      "cell_type": "code",
      "metadata": {
        "id": "3iGbmcOBhTwy"
      },
      "source": [
        "# write your answer here\n"
      ],
      "execution_count": null,
      "outputs": []
    }
  ]
}